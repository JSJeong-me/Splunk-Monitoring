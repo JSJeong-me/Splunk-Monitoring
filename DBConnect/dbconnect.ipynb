{
  "nbformat": 4,
  "nbformat_minor": 0,
  "metadata": {
    "colab": {
      "name": "Untitled92.ipynb",
      "provenance": [],
      "authorship_tag": "ABX9TyMdtq3eU6keKIlsrl8sLQiB",
      "include_colab_link": true
    },
    "kernelspec": {
      "name": "python3",
      "display_name": "Python 3"
    },
    "language_info": {
      "name": "python"
    }
  },
  "cells": [
    {
      "cell_type": "markdown",
      "metadata": {
        "id": "view-in-github",
        "colab_type": "text"
      },
      "source": [
        "<a href=\"https://colab.research.google.com/github/JSJeong-me/Splunk-Monitoring/blob/main/DBConnect/dbconnect.ipynb\" target=\"_parent\"><img src=\"https://colab.research.google.com/assets/colab-badge.svg\" alt=\"Open In Colab\"/></a>"
      ]
    },
    {
      "cell_type": "code",
      "execution_count": null,
      "metadata": {
        "id": "v3zog_xvr4Tq"
      },
      "outputs": [],
      "source": [
        "import petl as etl\n",
        "import pandas as pd\n",
        "import cdata.splunk as mod\n",
        "\n",
        "cnxn = mod.connect(\"user=MyUserName;password=MyPassword;URL=MyURL;InitiateOAuth=GETANDREFRESH;OAuthSettingsLocation=/PATH/TO/OAuthSettings.txt\")\")\n",
        "\n",
        "sql = \"SELECT Name, Owner FROM DataModels WHERE Id = 'SampleDataset'\"\n",
        "\n",
        "table1 = etl.fromdb(cnxn,sql)\n",
        "\n",
        "table2 = etl.sort(table1,'Owner')\n",
        "\n",
        "etl.tocsv(table2,'datamodels_data.csv')\n",
        "\n",
        "table3 = [ ['Name','Owner'], ['NewName1','NewOwner1'], ['NewName2','NewOwner2'], ['NewName3','NewOwner3'] ]\n",
        "\n",
        "etl.appenddb(table3, cnxn, 'DataModels')"
      ]
    }
  ]
}