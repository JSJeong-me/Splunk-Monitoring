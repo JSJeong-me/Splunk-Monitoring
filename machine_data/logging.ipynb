{
 "cells": [
  {
   "cell_type": "code",
   "execution_count": null,
   "id": "hungarian-printer",
   "metadata": {},
   "outputs": [],
   "source": []
  },
  {
   "cell_type": "code",
   "execution_count": null,
   "id": "global-brick",
   "metadata": {},
   "outputs": [],
   "source": [
    "from logging import (\n",
    "    getLogger,\n",
    "    Formatter,\n",
    "    FileHandler,\n",
    "    StreamHandler,\n",
    "    DEBUG,\n",
    "    ERROR,\n",
    ")\n",
    "import requests"
   ]
  },
  {
   "cell_type": "code",
   "execution_count": null,
   "id": "phantom-tenant",
   "metadata": {},
   "outputs": [],
   "source": [
    "# 로거 : __name__에는 실행 모듈 이름 logging_sample이 들어감(파일 이름)\n",
    "logger = getLogger(__name__)"
   ]
  },
  {
   "cell_type": "code",
   "execution_count": null,
   "id": "toxic-pattern",
   "metadata": {},
   "outputs": [],
   "source": [
    "# 출력 형식\n",
    "default_format = '[%(levelname)s] %(asctime)s %(name)s %(filename)s:%(lineno)d %(message)s'\n",
    "default_formatter = Formatter(default_format)\n",
    "funcname_formatter = Formatter(default_format + ' (%(funcName)s)')"
   ]
  },
  {
   "cell_type": "code",
   "execution_count": null,
   "id": "internal-violation",
   "metadata": {},
   "outputs": [],
   "source": [
    "# 로그 전용 핸들러: 콘솔 출력 전용\n",
    "log_stream_handler = StreamHandler()\n",
    "log_stream_handler.setFormatter(default_formatter)\n",
    "log_stream_handler.setLevel(DEBUG)"
   ]
  },
  {
   "cell_type": "code",
   "execution_count": null,
   "id": "french-dictionary",
   "metadata": {},
   "outputs": [],
   "source": [
    "# 로그 전용 핸들러: 파일 출력 전용\n",
    "log_file_handler = FileHandler(filename=\"crawler.log\")\n",
    "log_file_handler.setFormatter(funcname_formatter)\n",
    "log_file_handler.setLevel(ERROR)"
   ]
  },
  {
   "cell_type": "code",
   "execution_count": null,
   "id": "addressed-egypt",
   "metadata": {},
   "outputs": [],
   "source": [
    "# 로거에 핸들러와 레벨 설정하기\n",
    "logger.setLevel(DEBUG)\n",
    "logger.addHandler(log_stream_handler)\n",
    "logger.addHandler(log_file_handler)"
   ]
  },
  {
   "cell_type": "code",
   "execution_count": null,
   "id": "psychological-robertson",
   "metadata": {},
   "outputs": [],
   "source": [
    "def logging_example():\n",
    "    logger.info('크롤링을 시작했습니다.')\n",
    "    logger.warning('외부 사이트 링크는 크롤링하지 않습니다.')\n",
    "    logger.error('페이지를 찾을 수 없습니다.')\n",
    "    \n",
    "    try:\n",
    "        r = requests.get('#invalid_url', timeout=1)\n",
    "    except requests.exceptions.RequestException as e:\n",
    "        logger.exception('요청 중에 예외가 발생했습니다: %r', e)"
   ]
  },
  {
   "cell_type": "code",
   "execution_count": null,
   "id": "employed-martial",
   "metadata": {},
   "outputs": [],
   "source": [
    "if __name__ == '__main__':\n",
    "    logging_example()"
   ]
  },
  {
   "cell_type": "code",
   "execution_count": null,
   "id": "abroad-picture",
   "metadata": {},
   "outputs": [],
   "source": []
  }
 ],
 "metadata": {
  "kernelspec": {
   "display_name": "Python Django",
   "language": "python",
   "name": "django"
  },
  "language_info": {
   "codemirror_mode": {
    "name": "ipython",
    "version": 3
   },
   "file_extension": ".py",
   "mimetype": "text/x-python",
   "name": "python",
   "nbconvert_exporter": "python",
   "pygments_lexer": "ipython3",
   "version": "3.8.3"
  }
 },
 "nbformat": 4,
 "nbformat_minor": 5
}
