{
 "cells": [
  {
   "cell_type": "code",
   "execution_count": null,
   "id": "sensitive-equipment",
   "metadata": {},
   "outputs": [],
   "source": []
  },
  {
   "cell_type": "code",
   "execution_count": null,
   "id": "assigned-bloom",
   "metadata": {},
   "outputs": [],
   "source": [
    "# colorlog 모듈을 설치한 뒤에 실행해주셔야 합니다\n",
    "# 오류에서 확인하기 힘듭니다.\n",
    "\"\"\"로그 전용 모듈\"\"\"\n",
    "import logging.config\n",
    "\n",
    "import settings"
   ]
  },
  {
   "cell_type": "code",
   "execution_count": null,
   "id": "raising-amount",
   "metadata": {},
   "outputs": [],
   "source": [
    "def get_my_logger(name):\n",
    "    logging.config.dictConfig(settings.LOGGING_CONF)\n",
    "    return logging.getLogger(name)"
   ]
  },
  {
   "cell_type": "code",
   "execution_count": null,
   "id": "lightweight-confidence",
   "metadata": {},
   "outputs": [],
   "source": [
    "logger = get_my_logger(__name__)\n",
    "\n",
    "if __name__ == '__main__':\n",
    "    \"\"\"my_logging를 사용해봅니다.\"\"\"\n",
    "    logger.debug('DEBUG 레벨입니다.')\n",
    "    logger.info('INFO 레벨입니다.')\n",
    "    logger.warning('WARNING 레벨입니다.')\n",
    "    logger.error('ERROR 레벨입니다.')\n",
    "    logger.critical('CRITICAL 레벨입니다.')"
   ]
  },
  {
   "cell_type": "code",
   "execution_count": null,
   "id": "mysterious-sunglasses",
   "metadata": {},
   "outputs": [],
   "source": []
  }
 ],
 "metadata": {
  "kernelspec": {
   "display_name": "Python Django",
   "language": "python",
   "name": "django"
  },
  "language_info": {
   "codemirror_mode": {
    "name": "ipython",
    "version": 3
   },
   "file_extension": ".py",
   "mimetype": "text/x-python",
   "name": "python",
   "nbconvert_exporter": "python",
   "pygments_lexer": "ipython3",
   "version": "3.8.3"
  }
 },
 "nbformat": 4,
 "nbformat_minor": 5
}
